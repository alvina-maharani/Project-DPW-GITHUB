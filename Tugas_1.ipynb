{
  "cells": [
    {
      "cell_type": "markdown",
      "metadata": {
        "id": "view-in-github",
        "colab_type": "text"
      },
      "source": [
        "<a href=\"https://colab.research.google.com/github/alvina-maharani/Project-DPW-GITHUB/blob/main/Tugas_1.ipynb\" target=\"_parent\"><img src=\"https://colab.research.google.com/assets/colab-badge.svg\" alt=\"Open In Colab\"/></a>"
      ]
    },
    {
      "cell_type": "markdown",
      "source": [
        "\n",
        "\n",
        "# Tugas 1\n",
        "\n"
      ],
      "metadata": {
        "id": "DX-5GQ4HdeAY"
      }
    },
    {
      "cell_type": "markdown",
      "source": [
        "Nama :Alvina Maharani  \n",
        "NIM  : 200411100029  \n",
        "Kelas:Pendat A"
      ],
      "metadata": {
        "id": "1JP8216zdocm"
      }
    },
    {
      "cell_type": "markdown",
      "source": [
        "#  **Topik data** :\n",
        "\n",
        "Data pengeluaran iklan TV dan radio di Belanda"
      ],
      "metadata": {
        "id": "WGx8-9oTeAr1"
      }
    },
    {
      "cell_type": "markdown",
      "source": [],
      "metadata": {
        "id": "UDo8AaYtet4q"
      }
    },
    {
      "cell_type": "code",
      "source": [
        "import pandas as pd\n",
        "import matplotlib.pyplot as plt\n",
        "import seaborn as sns"
      ],
      "metadata": {
        "id": "8_b81xd0e87C"
      },
      "execution_count": 1,
      "outputs": []
    },
    {
      "cell_type": "code",
      "source": [
        "url = \"https://vincentarelbundock.github.io/Rdatasets/csv/AER/DutchAdvert.csv\"\n",
        "dataset = pd.read_csv(url)"
      ],
      "metadata": {
        "id": "5d8xIaFIfW0m"
      },
      "execution_count": 2,
      "outputs": []
    },
    {
      "cell_type": "code",
      "source": [
        "dataset.info( )"
      ],
      "metadata": {
        "colab": {
          "base_uri": "https://localhost:8080/"
        },
        "id": "mfSAnsw3f3NW",
        "outputId": "936b2bcb-bdd3-43dc-c99d-288301a92f56"
      },
      "execution_count": 3,
      "outputs": [
        {
          "output_type": "stream",
          "name": "stdout",
          "text": [
            "<class 'pandas.core.frame.DataFrame'>\n",
            "RangeIndex: 221 entries, 0 to 220\n",
            "Data columns (total 3 columns):\n",
            " #   Column      Non-Null Count  Dtype  \n",
            "---  ------      --------------  -----  \n",
            " 0   Unnamed: 0  221 non-null    int64  \n",
            " 1   tv          221 non-null    float64\n",
            " 2   radio       221 non-null    float64\n",
            "dtypes: float64(2), int64(1)\n",
            "memory usage: 5.3 KB\n"
          ]
        }
      ]
    },
    {
      "cell_type": "markdown",
      "source": [
        "**1.1 Data TV**"
      ],
      "metadata": {
        "id": "0D684GGmgJvG"
      }
    },
    {
      "cell_type": "code",
      "source": [
        "data_tv = dataset['tv']\n",
        "data_tv"
      ],
      "metadata": {
        "colab": {
          "base_uri": "https://localhost:8080/"
        },
        "id": "XSWnbFC-gFqn",
        "outputId": "aef7d2ac-68d9-45e0-f98c-e87d7ab609c7"
      },
      "execution_count": 4,
      "outputs": [
        {
          "output_type": "execute_result",
          "data": {
            "text/plain": [
              "0      14000.00585\n",
              "1      13304.53320\n",
              "2      13342.77929\n",
              "3      13571.97558\n",
              "4      13163.29492\n",
              "          ...     \n",
              "216    56161.75390\n",
              "217    80624.64843\n",
              "218    89987.82812\n",
              "219    96333.06250\n",
              "220    75003.94531\n",
              "Name: tv, Length: 221, dtype: float64"
            ]
          },
          "metadata": {},
          "execution_count": 4
        }
      ]
    },
    {
      "cell_type": "code",
      "source": [
        "data_radio = dataset['radio']\n",
        "data_radio"
      ],
      "metadata": {
        "colab": {
          "base_uri": "https://localhost:8080/"
        },
        "id": "G5fJV2TTg2jP",
        "outputId": "55e7a73e-3cc6-4661-f524-3fde7fc6b36f"
      },
      "execution_count": 5,
      "outputs": [
        {
          "output_type": "execute_result",
          "data": {
            "text/plain": [
              "0       1954.000000\n",
              "1       1952.711914\n",
              "2       1859.740112\n",
              "3       1922.205932\n",
              "4       1836.897705\n",
              "           ...     \n",
              "216     8857.575195\n",
              "217    11493.412100\n",
              "218    12668.123040\n",
              "219    12905.407220\n",
              "220     9938.024414\n",
              "Name: radio, Length: 221, dtype: float64"
            ]
          },
          "metadata": {},
          "execution_count": 5
        }
      ]
    },
    {
      "cell_type": "markdown",
      "source": [],
      "metadata": {
        "id": "iyTlMnKAg8vr"
      }
    },
    {
      "cell_type": "markdown",
      "source": [],
      "metadata": {
        "id": "aiueGwd3g9Xw"
      }
    },
    {
      "cell_type": "code",
      "source": [
        "dataset['tv'].median()"
      ],
      "metadata": {
        "colab": {
          "base_uri": "https://localhost:8080/"
        },
        "id": "yQ8oLAXGg-AA",
        "outputId": "6a22d0d0-297e-4954-b76a-8c566810afa7"
      },
      "execution_count": 6,
      "outputs": [
        {
          "output_type": "execute_result",
          "data": {
            "text/plain": [
              "17514.73437"
            ]
          },
          "metadata": {},
          "execution_count": 6
        }
      ]
    },
    {
      "cell_type": "code",
      "source": [
        "dataset['radio'].median()"
      ],
      "metadata": {
        "colab": {
          "base_uri": "https://localhost:8080/"
        },
        "id": "S-d39I1rhOun",
        "outputId": "7edce096-a6e4-488a-d427-fc79b0312149"
      },
      "execution_count": 7,
      "outputs": [
        {
          "output_type": "execute_result",
          "data": {
            "text/plain": [
              "3705.541259"
            ]
          },
          "metadata": {},
          "execution_count": 7
        }
      ]
    },
    {
      "cell_type": "markdown",
      "source": [],
      "metadata": {
        "id": "gWu1xy_ahUfd"
      }
    },
    {
      "cell_type": "markdown",
      "source": [],
      "metadata": {
        "id": "C5Ba6PkDhVEn"
      }
    },
    {
      "cell_type": "code",
      "source": [
        "dataset['tv'].mean()"
      ],
      "metadata": {
        "colab": {
          "base_uri": "https://localhost:8080/"
        },
        "id": "yOjsruNohVr8",
        "outputId": "8e9b3da9-9e53-4eb2-c695-605ed28774c5"
      },
      "execution_count": 8,
      "outputs": [
        {
          "output_type": "execute_result",
          "data": {
            "text/plain": [
              "27565.994347995475"
            ]
          },
          "metadata": {},
          "execution_count": 8
        }
      ]
    },
    {
      "cell_type": "code",
      "source": [
        "dataset['radio'].mean()"
      ],
      "metadata": {
        "colab": {
          "base_uri": "https://localhost:8080/"
        },
        "id": "htIpF9Q-hZ8F",
        "outputId": "3ff6e307-8264-4b64-ee10-efe798d26251"
      },
      "execution_count": 9,
      "outputs": [
        {
          "output_type": "execute_result",
          "data": {
            "text/plain": [
              "4604.064616411765"
            ]
          },
          "metadata": {},
          "execution_count": 9
        }
      ]
    },
    {
      "cell_type": "markdown",
      "source": [],
      "metadata": {
        "id": "tUnDH6xAhfQt"
      }
    },
    {
      "cell_type": "markdown",
      "source": [],
      "metadata": {
        "id": "-ZvMD1PDhgF2"
      }
    },
    {
      "cell_type": "code",
      "source": [
        "dataset['tv'].mode()"
      ],
      "metadata": {
        "colab": {
          "base_uri": "https://localhost:8080/"
        },
        "id": "Xd1fTT21hgty",
        "outputId": "71aa620a-44eb-4425-a766-35c7b5462b99"
      },
      "execution_count": 10,
      "outputs": [
        {
          "output_type": "execute_result",
          "data": {
            "text/plain": [
              "0       9829.551757\n",
              "1      10155.715820\n",
              "2      10408.763670\n",
              "3      10627.286130\n",
              "4      10750.465820\n",
              "           ...     \n",
              "216    81210.054680\n",
              "217    81689.078120\n",
              "218    84609.617180\n",
              "219    89987.828120\n",
              "220    96333.062500\n",
              "Length: 221, dtype: float64"
            ]
          },
          "metadata": {},
          "execution_count": 10
        }
      ]
    },
    {
      "cell_type": "code",
      "source": [
        "dataset['radio'].mode()"
      ],
      "metadata": {
        "colab": {
          "base_uri": "https://localhost:8080/"
        },
        "id": "a4_RXdaAhkz0",
        "outputId": "60c816d8-7534-4ddf-92fe-7fe024ff0b98"
      },
      "execution_count": 11,
      "outputs": [
        {
          "output_type": "execute_result",
          "data": {
            "text/plain": [
              "0       1804.861328\n",
              "1       1836.897705\n",
              "2       1854.529541\n",
              "3       1859.740112\n",
              "4       1865.246337\n",
              "           ...     \n",
              "216    12668.123040\n",
              "217    12817.622070\n",
              "218    12847.581050\n",
              "219    12905.407220\n",
              "220    13190.941400\n",
              "Length: 221, dtype: float64"
            ]
          },
          "metadata": {},
          "execution_count": 11
        }
      ]
    },
    {
      "cell_type": "markdown",
      "source": [],
      "metadata": {
        "id": "61ybZdLNhrIB"
      }
    },
    {
      "cell_type": "markdown",
      "source": [
        "**3.1 Skewned TV**"
      ],
      "metadata": {
        "id": "p64xXMbehr_v"
      }
    },
    {
      "cell_type": "code",
      "source": [
        "data_tv.skew() #untuk menghitung kemiringan grafik"
      ],
      "metadata": {
        "colab": {
          "base_uri": "https://localhost:8080/"
        },
        "id": "qM3D7qiVhsv3",
        "outputId": "b784bd05-da94-4924-c37e-d0cbeb25f68d"
      },
      "execution_count": 12,
      "outputs": [
        {
          "output_type": "execute_result",
          "data": {
            "text/plain": [
              "1.4910576005973462"
            ]
          },
          "metadata": {},
          "execution_count": 12
        }
      ]
    },
    {
      "cell_type": "code",
      "source": [
        "plt.figure()\n",
        "sns.distplot(data_tv)\n",
        "plt.show()"
      ],
      "metadata": {
        "colab": {
          "base_uri": "https://localhost:8080/",
          "height": 345
        },
        "id": "Ldag49RKh-Gp",
        "outputId": "65792ecf-ae18-49c9-b3ce-3381fd4bf133"
      },
      "execution_count": 13,
      "outputs": [
        {
          "output_type": "stream",
          "name": "stderr",
          "text": [
            "/usr/local/lib/python3.7/dist-packages/seaborn/distributions.py:2619: FutureWarning: `distplot` is a deprecated function and will be removed in a future version. Please adapt your code to use either `displot` (a figure-level function with similar flexibility) or `histplot` (an axes-level function for histograms).\n",
            "  warnings.warn(msg, FutureWarning)\n"
          ]
        },
        {
          "output_type": "display_data",
          "data": {
            "text/plain": [
              "<Figure size 432x288 with 1 Axes>"
            ],
            "image/png": "[encoded data removed]"
          },
          "metadata": {
            "needs_background": "light"
          }
        }
      ]
    }
  ],
  "metadata": {
    "kernelspec": {
      "display_name": "Python 3",
      "language": "python",
      "name": "python3"
    },
    "language_info": {
      "codemirror_mode": {
        "name": "ipython",
        "version": 3
      },
      "file_extension": ".py",
      "mimetype": "text/x-python",
      "name": "python",
      "nbconvert_exporter": "python",
      "pygments_lexer": "ipython3",
      "version": "3.8.0"
    },
    "colab": {
      "provenance": [],
      "collapsed_sections": [],
      "include_colab_link": true
    }
  },
  "nbformat": 4,
  "nbformat_minor": 0
}